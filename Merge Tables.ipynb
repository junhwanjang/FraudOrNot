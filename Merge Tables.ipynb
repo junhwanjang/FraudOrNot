{
 "cells": [
  {
   "cell_type": "code",
   "execution_count": 2,
   "metadata": {
    "collapsed": true
   },
   "outputs": [],
   "source": [
    "import pandas as pd\n",
    "import glob"
   ]
  },
  {
   "cell_type": "code",
   "execution_count": 3,
   "metadata": {
    "collapsed": false
   },
   "outputs": [
    {
     "name": "stdout",
     "output_type": "stream",
     "text": [
      "./Data/BGCON_CUST_DATA.csv\n",
      "./Data/BGCON_CLAIM_DATA.csv\n",
      "./Data/BGCON_FPINFO_DATA.csv\n",
      "./Data/BGCON_FMLY_DATA.csv\n",
      "./Data/BGCON_CNTT_DATA.csv\n"
     ]
    }
   ],
   "source": [
    "file_list = glob.glob('./Data/*.csv')\n",
    "for file_name in file_list:\n",
    "    print(file_name)"
   ]
  },
  {
   "cell_type": "code",
   "execution_count": 4,
   "metadata": {
    "collapsed": true
   },
   "outputs": [],
   "source": [
    "# read BGCON_CUST_DATA.csv ( 고객정보 )\n",
    "customer_df = pd.read_csv(file_list[0], encoding='utf-16')\n",
    "\n",
    "# read BGCON_CLAIM_DATA.csv ( 지급정보 )\n",
    "claim_df = pd.read_csv(file_list[1], encoding='utf-16')\n",
    "\n",
    "# read BGCON_FPINFO_DATA.csv ( 설계사정보 )\n",
    "fpinfo_df = pd.read_csv(file_list[2], encoding='utf-16')\n",
    "\n",
    "# read BGCON_FMLY_DATA.csv ( 가족정보 )\n",
    "family_df = pd.read_csv(file_list[3], encoding='utf-16')\n",
    "\n",
    "# read BGCON_CNTT_DATA.csv ( 계약정보 )\n",
    "contract_df = pd.read_csv(file_list[4], encoding='utf-16')"
   ]
  },
  {
   "cell_type": "code",
   "execution_count": 5,
   "metadata": {
    "collapsed": true
   },
   "outputs": [],
   "source": [
    "# < WORKFLOW >\n",
    "# Join : cust + cntt (on CUST_ID)\n",
    "# Join : cntt + claim (on POLY_NO)\n",
    "# Join : cntt + fpinfo (on CLLT_FP_PRNO)\n",
    "# Create Feature : fmly (ex == 0 or 1 + 관계코드)"
   ]
  },
  {
   "cell_type": "code",
   "execution_count": 10,
   "metadata": {
    "collapsed": true
   },
   "outputs": [],
   "source": [
    "# Suggestion : 변수들의 조합으로 라는 말은 즉 새로운 feature를 만들어라.\n",
    "#            : 외부데이터를 연계하여 활용해보아라 ( 예를 들어, 지도 api를 활용할 수 있지않을까? )\n",
    "\n",
    "# Next Step \n",
    "# 먼저, Nan 을 어떻게 처리할 것인지? ( drop or interpolation )\n",
    "# 어떤 알고리즘을 이용하여 예측할것인지 ( SVM ...? )"
   ]
  },
  {
   "cell_type": "code",
   "execution_count": 7,
   "metadata": {
    "collapsed": false
   },
   "outputs": [],
   "source": [
    "# Join : cust + cntt (on CUST_ID)\n",
    "merged_df0 = pd.merge(customer_df, contract_df, on='CUST_ID')\n",
    "\n",
    "# Join : cntt + claim (on POLY_NO)\n",
    "merged_df1 = pd.merge(merged_df0, claim_df, on='POLY_NO')\n",
    "\n",
    "# Join : cntt + fpinfo (on CLLT_FP_PRNO)\n",
    "merged_df2 = pd.merge(merged_df1, fpinfo_df, on = 'CLLT_FP_PRNO')"
   ]
  },
  {
   "cell_type": "code",
   "execution_count": 9,
   "metadata": {
    "collapsed": false
   },
   "outputs": [
    {
     "data": {
      "text/html": [
       "<div>\n",
       "<table border=\"1\" class=\"dataframe\">\n",
       "  <thead>\n",
       "    <tr style=\"text-align: right;\">\n",
       "      <th></th>\n",
       "      <th>CUST_ID_x</th>\n",
       "      <th>DIVIDED_SET</th>\n",
       "      <th>SIU_CUST_YN</th>\n",
       "      <th>SEX</th>\n",
       "      <th>AGE</th>\n",
       "      <th>RESI_COST</th>\n",
       "      <th>RESI_TYPE_CODE</th>\n",
       "      <th>FP_CAREER</th>\n",
       "      <th>CUST_RGST</th>\n",
       "      <th>CTPR</th>\n",
       "      <th>...</th>\n",
       "      <th>COUNT_TRMT_ITEM</th>\n",
       "      <th>DCAF_CMPS_XCPA</th>\n",
       "      <th>NON_PAY_RATIO</th>\n",
       "      <th>HEED_HOSP_YN</th>\n",
       "      <th>INCB_DVSN</th>\n",
       "      <th>ETRS_YM</th>\n",
       "      <th>FIRE_YM</th>\n",
       "      <th>BEFO_JOB</th>\n",
       "      <th>EDGB</th>\n",
       "      <th>BRCH_CODE</th>\n",
       "    </tr>\n",
       "  </thead>\n",
       "  <tbody>\n",
       "    <tr>\n",
       "      <th>119987</th>\n",
       "      <td>21483</td>\n",
       "      <td>1</td>\n",
       "      <td>N</td>\n",
       "      <td>2</td>\n",
       "      <td>30</td>\n",
       "      <td>31944</td>\n",
       "      <td>20</td>\n",
       "      <td>N</td>\n",
       "      <td>200306</td>\n",
       "      <td>경기</td>\n",
       "      <td>...</td>\n",
       "      <td>NaN</td>\n",
       "      <td>NaN</td>\n",
       "      <td>0</td>\n",
       "      <td>N</td>\n",
       "      <td>P</td>\n",
       "      <td>199711</td>\n",
       "      <td>999912</td>\n",
       "      <td>무직</td>\n",
       "      <td>대학졸</td>\n",
       "      <td>78</td>\n",
       "    </tr>\n",
       "    <tr>\n",
       "      <th>119988</th>\n",
       "      <td>20356</td>\n",
       "      <td>1</td>\n",
       "      <td>N</td>\n",
       "      <td>1</td>\n",
       "      <td>15</td>\n",
       "      <td>27777</td>\n",
       "      <td>20</td>\n",
       "      <td>N</td>\n",
       "      <td>200306</td>\n",
       "      <td>경기</td>\n",
       "      <td>...</td>\n",
       "      <td>NaN</td>\n",
       "      <td>NaN</td>\n",
       "      <td>0</td>\n",
       "      <td>N</td>\n",
       "      <td>R</td>\n",
       "      <td>200006</td>\n",
       "      <td>200403</td>\n",
       "      <td>무직</td>\n",
       "      <td>고졸</td>\n",
       "      <td>120</td>\n",
       "    </tr>\n",
       "    <tr>\n",
       "      <th>119989</th>\n",
       "      <td>20356</td>\n",
       "      <td>1</td>\n",
       "      <td>N</td>\n",
       "      <td>1</td>\n",
       "      <td>15</td>\n",
       "      <td>27777</td>\n",
       "      <td>20</td>\n",
       "      <td>N</td>\n",
       "      <td>200306</td>\n",
       "      <td>경기</td>\n",
       "      <td>...</td>\n",
       "      <td>NaN</td>\n",
       "      <td>NaN</td>\n",
       "      <td>0</td>\n",
       "      <td>N</td>\n",
       "      <td>R</td>\n",
       "      <td>200006</td>\n",
       "      <td>200403</td>\n",
       "      <td>무직</td>\n",
       "      <td>고졸</td>\n",
       "      <td>120</td>\n",
       "    </tr>\n",
       "    <tr>\n",
       "      <th>119990</th>\n",
       "      <td>17118</td>\n",
       "      <td>1</td>\n",
       "      <td>N</td>\n",
       "      <td>2</td>\n",
       "      <td>18</td>\n",
       "      <td>21527</td>\n",
       "      <td>20</td>\n",
       "      <td>N</td>\n",
       "      <td>200306</td>\n",
       "      <td>경기</td>\n",
       "      <td>...</td>\n",
       "      <td>NaN</td>\n",
       "      <td>NaN</td>\n",
       "      <td>0</td>\n",
       "      <td>N</td>\n",
       "      <td>R</td>\n",
       "      <td>198108</td>\n",
       "      <td>200206</td>\n",
       "      <td>기타</td>\n",
       "      <td>고졸</td>\n",
       "      <td>19</td>\n",
       "    </tr>\n",
       "    <tr>\n",
       "      <th>119991</th>\n",
       "      <td>17118</td>\n",
       "      <td>1</td>\n",
       "      <td>N</td>\n",
       "      <td>2</td>\n",
       "      <td>18</td>\n",
       "      <td>21527</td>\n",
       "      <td>20</td>\n",
       "      <td>N</td>\n",
       "      <td>200306</td>\n",
       "      <td>경기</td>\n",
       "      <td>...</td>\n",
       "      <td>NaN</td>\n",
       "      <td>NaN</td>\n",
       "      <td>0</td>\n",
       "      <td>N</td>\n",
       "      <td>R</td>\n",
       "      <td>198108</td>\n",
       "      <td>200206</td>\n",
       "      <td>기타</td>\n",
       "      <td>고졸</td>\n",
       "      <td>19</td>\n",
       "    </tr>\n",
       "  </tbody>\n",
       "</table>\n",
       "<p>5 rows × 89 columns</p>\n",
       "</div>"
      ],
      "text/plain": [
       "        CUST_ID_x  DIVIDED_SET SIU_CUST_YN  SEX  AGE  RESI_COST  \\\n",
       "119987      21483            1           N    2   30      31944   \n",
       "119988      20356            1           N    1   15      27777   \n",
       "119989      20356            1           N    1   15      27777   \n",
       "119990      17118            1           N    2   18      21527   \n",
       "119991      17118            1           N    2   18      21527   \n",
       "\n",
       "        RESI_TYPE_CODE FP_CAREER  CUST_RGST CTPR    ...     COUNT_TRMT_ITEM  \\\n",
       "119987              20         N     200306   경기    ...                 NaN   \n",
       "119988              20         N     200306   경기    ...                 NaN   \n",
       "119989              20         N     200306   경기    ...                 NaN   \n",
       "119990              20         N     200306   경기    ...                 NaN   \n",
       "119991              20         N     200306   경기    ...                 NaN   \n",
       "\n",
       "       DCAF_CMPS_XCPA  NON_PAY_RATIO  HEED_HOSP_YN  INCB_DVSN ETRS_YM FIRE_YM  \\\n",
       "119987            NaN              0             N          P  199711  999912   \n",
       "119988            NaN              0             N          R  200006  200403   \n",
       "119989            NaN              0             N          R  200006  200403   \n",
       "119990            NaN              0             N          R  198108  200206   \n",
       "119991            NaN              0             N          R  198108  200206   \n",
       "\n",
       "       BEFO_JOB  EDGB  BRCH_CODE  \n",
       "119987       무직   대학졸         78  \n",
       "119988       무직    고졸        120  \n",
       "119989       무직    고졸        120  \n",
       "119990       기타    고졸         19  \n",
       "119991       기타    고졸         19  \n",
       "\n",
       "[5 rows x 89 columns]"
      ]
     },
     "execution_count": 9,
     "metadata": {},
     "output_type": "execute_result"
    }
   ],
   "source": [
    "merged_df2.tail()"
   ]
  },
  {
   "cell_type": "code",
   "execution_count": 8,
   "metadata": {
    "collapsed": false
   },
   "outputs": [
    {
     "data": {
      "text/html": [
       "<div>\n",
       "<table border=\"1\" class=\"dataframe\">\n",
       "  <thead>\n",
       "    <tr style=\"text-align: right;\">\n",
       "      <th></th>\n",
       "      <th>CUST_ID</th>\n",
       "      <th>SUB_CUST_ID</th>\n",
       "      <th>FMLY_RELN_CODE</th>\n",
       "    </tr>\n",
       "  </thead>\n",
       "  <tbody>\n",
       "    <tr>\n",
       "      <th>0</th>\n",
       "      <td>21564</td>\n",
       "      <td>20967</td>\n",
       "      <td>13</td>\n",
       "    </tr>\n",
       "    <tr>\n",
       "      <th>1</th>\n",
       "      <td>20672</td>\n",
       "      <td>6462</td>\n",
       "      <td>12</td>\n",
       "    </tr>\n",
       "    <tr>\n",
       "      <th>2</th>\n",
       "      <td>1342</td>\n",
       "      <td>12929</td>\n",
       "      <td>17</td>\n",
       "    </tr>\n",
       "    <tr>\n",
       "      <th>3</th>\n",
       "      <td>19239</td>\n",
       "      <td>18556</td>\n",
       "      <td>13</td>\n",
       "    </tr>\n",
       "    <tr>\n",
       "      <th>4</th>\n",
       "      <td>1649</td>\n",
       "      <td>13961</td>\n",
       "      <td>13</td>\n",
       "    </tr>\n",
       "  </tbody>\n",
       "</table>\n",
       "</div>"
      ],
      "text/plain": [
       "   CUST_ID  SUB_CUST_ID  FMLY_RELN_CODE\n",
       "0    21564        20967              13\n",
       "1    20672         6462              12\n",
       "2     1342        12929              17\n",
       "3    19239        18556              13\n",
       "4     1649        13961              13"
      ]
     },
     "execution_count": 8,
     "metadata": {},
     "output_type": "execute_result"
    }
   ],
   "source": [
    "family_df.head()"
   ]
  },
  {
   "cell_type": "code",
   "execution_count": null,
   "metadata": {
    "collapsed": true
   },
   "outputs": [],
   "source": []
  }
 ],
 "metadata": {
  "kernelspec": {
   "display_name": "Python 3",
   "language": "python",
   "name": "python3"
  },
  "language_info": {
   "codemirror_mode": {
    "name": "ipython",
    "version": 3
   },
   "file_extension": ".py",
   "mimetype": "text/x-python",
   "name": "python",
   "nbconvert_exporter": "python",
   "pygments_lexer": "ipython3",
   "version": "3.5.1+"
  }
 },
 "nbformat": 4,
 "nbformat_minor": 0
}
